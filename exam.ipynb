{
 "cells": [
  {
   "cell_type": "markdown",
   "metadata": {},
   "source": [
    "# <center>Final exam</center>\n",
    "### <center>Alfred Galichon (NYU & Sciences Po)</center>\n",
    "## <center>'math+econ+code' masterclass on optimal transport and economic applications</center>\n",
    "#### <center>With python code examples</center>\n",
    "© 2018-2022 by Alfred Galichon. Past and present support from NSF grant DMS-1716489, ERC grant CoG-866274 are acknowledged, as well as inputs from contributors listed [here](http://www.math-econ-code.org/theteam).\n",
    "\n",
    "**If you reuse material from this masterclass, please cite as:**<br>\n",
    "Alfred Galichon, 'math+econ+code' masterclass on optimal transport and economic applications, January 2022. https://github.com/math-econ-code/mec_optim"
   ]
  },
  {
   "cell_type": "markdown",
   "metadata": {},
   "source": [
    "* You have until Sunday, Jan 23, 2022, 10am (NYC time) to complete this exam and return it to me by email. This is a strict deadline. If you don't submit an exam or if you submit after the deadline, your exam will not be graded.\n",
    "* You are stongly encouraged to submit your answers in this jupyter notebook. It should be self-contained, i.e. the code should run without modification on our part, let alone path modification to access data files. You may therefore need to import code from the lecture notebooks in order to prepare the data.\n",
    "* Communication with other students or anyone else regarding this exam is prohibited. The consultation of the course material (which is available online at https://github.com/math-econ-code/mec_optim) as well as personal notes taken during the course are acceptable.\n",
    "* Please answer FOUR of the six independent questions below. If you answer more than four, we will consider the four best you answered for the grade."
   ]
  },
  {
   "cell_type": "markdown",
   "metadata": {},
   "source": [
    "# Question 1"
   ]
  },
  {
   "cell_type": "markdown",
   "metadata": {},
   "source": [
    "We consider consider the problem of supplying three cities in steek by five various factories. \n",
    "The production of factory $x$ is $n_x$ thousand tons of steel per day and the daily steel consumption of city $y$ is $m_y$ t, as given below. The profit of shipping one thousand tons of steel from factory $x$ to city $y$ is given by $\\Phi_{xy}$, given below.\n",
    "\n",
    "What is the optimal total profit of a daily shipping operation of all the steel produced to all the cities? "
   ]
  },
  {
   "cell_type": "code",
   "execution_count": 32,
   "metadata": {},
   "outputs": [],
   "source": [
    "import numpy as np\n",
    "n_x = np.array([0.37, 0.36, 0.27])\n",
    "m_y = np.array([0.11,0.19,0.16,0.26,0.28])\n",
    "Φ_x_y = np.array([[0.07, 0.41, 0.25, -0.07, 0.67],\n",
    "       [0.71, 0.94, 0.23, -0.1 , 0.33],\n",
    "       [0.22, -0.2 , 0.42, 0.58, -0.27]])"
   ]
  },
  {
   "cell_type": "markdown",
   "metadata": {},
   "source": [
    "### Answer to question 1:"
   ]
  },
  {
   "cell_type": "markdown",
   "metadata": {},
   "source": [
    "# Question 2"
   ]
  },
  {
   "cell_type": "markdown",
   "metadata": {},
   "source": [
    "With the same dataset as in question 1, is it possible to ship all the steel produced to serve all the needs of the cities so that no active pair $xy$ runs a deficit? in other words, is it possible to find a matching $\\mu_{xy}$ between $n_x$ and $m_y$ so that $\\mu_{xy}>0$ implies $\\Phi_{xy} \\geq 0$?"
   ]
  },
  {
   "cell_type": "markdown",
   "metadata": {},
   "source": [
    "### Answer to question 2:"
   ]
  },
  {
   "cell_type": "markdown",
   "metadata": {},
   "source": [
    "# Question 3"
   ]
  },
  {
   "cell_type": "markdown",
   "metadata": {},
   "source": [
    "Consider a heterosexual population where men have masses $n_x$, women  $m_y$, and the matching patterns are $\\hat{\\mu}_{xy}$. One suggests a parameterization of the marriage surplus function $\\Phi_{xy}$ by a vector $\\lambda \\in \\mathbb{R}^3$ such that $\\Phi^\\lambda_{xy} = \\sum_k \\lambda_k \\Phi_{xyk}$."
   ]
  },
  {
   "cell_type": "code",
   "execution_count": 25,
   "metadata": {},
   "outputs": [],
   "source": [
    "Φ_x_y_k = np.array([[[0.82, 0.79, 0.78],\n",
    "        [0.48, 0.94, 0.54],\n",
    "        [0.27, 0.41, 0.9 ],\n",
    "        [0.06, 0.35, 0.08],\n",
    "        [0.97, 0.94, 0.98]],\n",
    "\n",
    "       [[0.35, 0.59, 0.14],\n",
    "        [0.22, 0.95, 0.59],\n",
    "        [0.  , 0.68, 0.51],\n",
    "        [0.64, 0.59, 0.01],\n",
    "        [0.71, 0.29, 0.62]]])\n",
    "\n",
    "μhat_x_y = np.array([[0.02, 0.38, 0.05, 0.24, 0.39],\n",
    "       [0.77, 0.4 , 0.53, 0.64, 0.5 ]])\n",
    "\n",
    "n_x = np.array([1.27, 3.26])\n",
    "m_y = np.array([0.95, 1.56, 0.72, 1.49, 1.88])\n"
   ]
  },
  {
   "cell_type": "markdown",
   "metadata": {},
   "source": [
    "(i) Compute $\\mu_{x0}$ and $\\mu_{0y}$, the masses of single men and women of each type?<br>\n",
    "(ii) Based on the moment-matching method seen in block 5a, estimate the vector $\\lambda \\in \\mathbb{R}^3$."
   ]
  },
  {
   "cell_type": "markdown",
   "metadata": {},
   "source": [
    "### Answer to question 3:"
   ]
  },
  {
   "cell_type": "markdown",
   "metadata": {},
   "source": [
    "# Question 4"
   ]
  },
  {
   "cell_type": "markdown",
   "metadata": {},
   "source": [
    "Consider a marriage market **with partial matching** where $n_x$, $m_y$ and $\\Phi_{xy}$ are given below:"
   ]
  },
  {
   "cell_type": "code",
   "execution_count": 31,
   "metadata": {},
   "outputs": [],
   "source": [
    "n_x = np.ones(3) / 3\n",
    "m_y = np.ones(4) / 4\n",
    "Φ_x_y = np.array([[0.16, 0.84, 0.91, 0.3 ],\n",
    "       [0.87, 0.7 , 0.86, 0.1 ],\n",
    "       [0.6 , 0.43, 0.14, 0.86]])"
   ]
  },
  {
   "cell_type": "markdown",
   "metadata": {},
   "source": [
    "and consider the problem<br>\n",
    "$\\max_{\\mu} \\sum \\mu_{xy} \\Phi_{xy} - 2 \\sum_{xy} \\mu_{xy}\\log \\mu_{xy}$ <br>\n",
    "subject to<br>\n",
    "$\\sum_y \\mu_{xy} = n_x$ and $\\sum_x \\mu_{xy} = m_y$<br>\n",
    "and call $W(n,m)$ the value of the problem, as well as $\\mu_{xy}$ its solution.<br>\n",
    "\n",
    "i. Show that the dual expression for $W(n,m)$ is<br>\n",
    "$W(n,m) = \\min_{u,v} \\sum_{x} n_x u_x + \\sum_{y} n_y u_y  + 2 \\sum_{xy} \\exp \\left(\\frac {\\Phi_{xy} - u_x - v_y } {2} \\right) $<br>\n",
    "ii. Compute a numerical expression for $W(n,m)$<br>\n"
   ]
  },
  {
   "cell_type": "markdown",
   "metadata": {},
   "source": [
    "### Answer to question 4:"
   ]
  },
  {
   "cell_type": "markdown",
   "metadata": {},
   "source": [
    "# Question 5"
   ]
  },
  {
   "cell_type": "markdown",
   "metadata": {},
   "source": [
    "We consider a marriage market **with partial matching**  and we recall that the dual optimal matching problem with entropic regularization<br>\n",
    "$W(n,m) = \\min_{u,v} \\sum_{x} n_x u_x + \\sum_{y} n_y u_y  + 2 \\sum_{xy} \\exp \\left(\\frac {\\Phi_{xy} - u_x - v_y } {2} \\right) \n",
    "+ \\sum_x \\exp(-u_x) + \\sum_y \\exp(-v_y) $.<br>\n",
    "i. Argue that $u_x= \\frac {\\partial W} {\\partial n_x}$ and $v_y = \\frac {\\partial W} {\\partial m_y}$.<br>\n",
    "ii. What is the sign of the effect of an increase in the number of a type $x^\\prime$ on the welfare of the rest of the population (i.e. what are the signs of $\\frac {\\partial u_x} {\\partial n_{x^\\prime} }$ and $\\frac {\\partial v_y} {\\partial n_{x^\\prime} }$)?"
   ]
  },
  {
   "cell_type": "markdown",
   "metadata": {},
   "source": [
    "### Answer to question 5:"
   ]
  },
  {
   "cell_type": "markdown",
   "metadata": {},
   "source": [
    "# Question 6\n"
   ]
  },
  {
   "cell_type": "markdown",
   "metadata": {},
   "source": [
    "Consider a matching market between CEOs and firms. There are 500 CEOs and 500 firms. The vector of characteristics of CEOs and firms is given by\n"
   ]
  },
  {
   "cell_type": "code",
   "execution_count": 33,
   "metadata": {},
   "outputs": [],
   "source": [
    "np.random.seed(7)\n",
    "x_i = np.random.randn(500)\n",
    "y_j = np.random.randn(500)"
   ]
  },
  {
   "cell_type": "markdown",
   "metadata": {},
   "source": [
    "Assume that a CEO of characteristics $x$ matched with a firm of characteristics $y$ generates surplus<br>$\\Phi(xy)= x+y- \\log(e^x+e^y)$.<br>\n",
    "i. Show that $\\Phi(x,y)$ is supermodular. What can be deduced about the optimal matching?<br>\n",
    "ii. What is the numerical value of the surplus in the opitimal matching of CEOs to firms?\n"
   ]
  },
  {
   "cell_type": "markdown",
   "metadata": {},
   "source": [
    "### Answer to question 6:"
   ]
  }
 ],
 "metadata": {
  "kernelspec": {
   "display_name": "Python 3",
   "language": "python",
   "name": "python3"
  },
  "language_info": {
   "codemirror_mode": {
    "name": "ipython",
    "version": 3
   },
   "file_extension": ".py",
   "mimetype": "text/x-python",
   "name": "python",
   "nbconvert_exporter": "python",
   "pygments_lexer": "ipython3",
   "version": "3.8.5"
  }
 },
 "nbformat": 4,
 "nbformat_minor": 2
}
